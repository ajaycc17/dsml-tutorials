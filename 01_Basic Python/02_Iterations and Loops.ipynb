{
 "cells": [
  {
   "cell_type": "markdown",
   "source": [
    "## Ajay Choudhury(18018) | (EECS 2018 Batch)"
   ],
   "metadata": {}
  },
  {
   "cell_type": "markdown",
   "source": [
    "## Exercise 1"
   ],
   "metadata": {}
  },
  {
   "cell_type": "code",
   "execution_count": 3,
   "source": [
    "shopping = ['bread', 'milk', 'eggs']\r\n",
    "print(shopping)"
   ],
   "outputs": [
    {
     "output_type": "stream",
     "name": "stdout",
     "text": [
      "['bread', 'milk', 'eggs']\n"
     ]
    }
   ],
   "metadata": {}
  },
  {
   "cell_type": "code",
   "execution_count": 4,
   "source": [
    "for item in shopping:\r\n",
    "    print(item)"
   ],
   "outputs": [
    {
     "output_type": "stream",
     "name": "stdout",
     "text": [
      "bread\n",
      "milk\n",
      "eggs\n"
     ]
    }
   ],
   "metadata": {}
  },
  {
   "cell_type": "code",
   "execution_count": 5,
   "source": [
    "mixed = [365, \"days\", True]\r\n",
    "print(mixed)"
   ],
   "outputs": [
    {
     "output_type": "stream",
     "name": "stdout",
     "text": [
      "[365, 'days', True]\n"
     ]
    }
   ],
   "metadata": {}
  },
  {
   "cell_type": "markdown",
   "source": [
    "## Exercise 2"
   ],
   "metadata": {}
  },
  {
   "cell_type": "code",
   "execution_count": 9,
   "source": [
    "# length of the list 'shopping'\r\n",
    "len(shopping)"
   ],
   "outputs": [
    {
     "output_type": "execute_result",
     "data": {
      "text/plain": [
       "3"
      ]
     },
     "metadata": {},
     "execution_count": 9
    }
   ],
   "metadata": {}
  },
  {
   "cell_type": "code",
   "execution_count": 10,
   "source": [
    "list1 = [1, 2, 3]\r\n",
    "list2 = [4, 5, 6]\r\n",
    "final_list = list1 + list2\r\n",
    "print(final_list)"
   ],
   "outputs": [
    {
     "output_type": "stream",
     "name": "stdout",
     "text": [
      "[1, 2, 3, 4, 5, 6]\n"
     ]
    }
   ],
   "metadata": {}
  },
  {
   "cell_type": "code",
   "execution_count": 12,
   "source": [
    "list3 = ['iiserb'] * 3\r\n",
    "print(list3)"
   ],
   "outputs": [
    {
     "output_type": "stream",
     "name": "stdout",
     "text": [
      "['iiserb', 'iiserb', 'iiserb']\n"
     ]
    }
   ],
   "metadata": {}
  },
  {
   "cell_type": "markdown",
   "source": [
    "## Exercise 3"
   ],
   "metadata": {}
  },
  {
   "cell_type": "code",
   "execution_count": 13,
   "source": [
    "shopping = [\"bread\",\"milk\", \"eggs\"]\r\n",
    "print(shopping[1])"
   ],
   "outputs": [
    {
     "output_type": "stream",
     "name": "stdout",
     "text": [
      "milk\n"
     ]
    }
   ],
   "metadata": {}
  },
  {
   "cell_type": "code",
   "execution_count": 19,
   "source": [
    "shopping[1] = 'banana'\r\n",
    "print(shopping)"
   ],
   "outputs": [
    {
     "output_type": "stream",
     "name": "stdout",
     "text": [
      "['bread', 'banana', 'eggs']\n"
     ]
    }
   ],
   "metadata": {}
  },
  {
   "cell_type": "code",
   "execution_count": 20,
   "source": [
    "print(shopping[-1])"
   ],
   "outputs": [
    {
     "output_type": "stream",
     "name": "stdout",
     "text": [
      "eggs\n"
     ]
    }
   ],
   "metadata": {}
  },
  {
   "cell_type": "code",
   "execution_count": 21,
   "source": [
    "print(shopping[0:2])"
   ],
   "outputs": [
    {
     "output_type": "stream",
     "name": "stdout",
     "text": [
      "['bread', 'banana']\n"
     ]
    }
   ],
   "metadata": {}
  },
  {
   "cell_type": "code",
   "execution_count": 22,
   "source": [
    "print(shopping[0:3])"
   ],
   "outputs": [
    {
     "output_type": "stream",
     "name": "stdout",
     "text": [
      "['bread', 'banana', 'eggs']\n"
     ]
    }
   ],
   "metadata": {}
  },
  {
   "cell_type": "code",
   "execution_count": 23,
   "source": [
    "print(shopping[1:])"
   ],
   "outputs": [
    {
     "output_type": "stream",
     "name": "stdout",
     "text": [
      "['banana', 'eggs']\n"
     ]
    }
   ],
   "metadata": {}
  },
  {
   "cell_type": "markdown",
   "source": [
    "## Exercise 4"
   ],
   "metadata": {}
  },
  {
   "cell_type": "code",
   "execution_count": 26,
   "source": [
    "shopping.append('apple')\r\n",
    "print(shopping)"
   ],
   "outputs": [
    {
     "output_type": "stream",
     "name": "stdout",
     "text": [
      "['bread', 'banana', 'eggs', 'apple', 'apple', 'apple']\n"
     ]
    }
   ],
   "metadata": {}
  },
  {
   "cell_type": "code",
   "execution_count": 31,
   "source": [
    "shopping = []\r\n",
    "shopping.append('bread')\r\n",
    "shopping.append('milk')\r\n",
    "shopping.append('eggs')\r\n",
    "shopping.append('apple')\r\n",
    "print(shopping)"
   ],
   "outputs": [
    {
     "output_type": "stream",
     "name": "stdout",
     "text": [
      "['bread', 'milk', 'eggs', 'apple']\n"
     ]
    }
   ],
   "metadata": {}
  },
  {
   "cell_type": "code",
   "execution_count": 32,
   "source": [
    "shopping.insert(2, 'ham')\r\n",
    "print(shopping)"
   ],
   "outputs": [
    {
     "output_type": "stream",
     "name": "stdout",
     "text": [
      "['bread', 'milk', 'ham', 'eggs', 'apple']\n"
     ]
    }
   ],
   "metadata": {}
  },
  {
   "cell_type": "markdown",
   "source": [
    "## Exercise 5"
   ],
   "metadata": {}
  },
  {
   "cell_type": "code",
   "execution_count": 33,
   "source": [
    "movie = {\r\n",
    "    \"title\": \"The Godfather\",\r\n",
    "    \"director\": \"Francis Ford Coppola\",\r\n",
    "    \"year\": 1972,\r\n",
    "    \"rating\": 9.2\r\n",
    "}\r\n",
    "\r\n",
    "# accessing dictionary items\r\n",
    "print(movie[\"year\"])"
   ],
   "outputs": [
    {
     "output_type": "stream",
     "name": "stdout",
     "text": [
      "1972\n"
     ]
    }
   ],
   "metadata": {}
  },
  {
   "cell_type": "code",
   "execution_count": 34,
   "source": [
    "movie['rating'] = (movie['rating'] + 9.3)/2\r\n",
    "print(movie['rating'])"
   ],
   "outputs": [
    {
     "output_type": "stream",
     "name": "stdout",
     "text": [
      "9.25\n"
     ]
    }
   ],
   "metadata": {}
  },
  {
   "cell_type": "code",
   "execution_count": 35,
   "source": [
    "movie = {}\r\n",
    "movie['title'] = \"The Godfather\"\r\n",
    "movie['director'] = \"Francis Ford Coppola\"\r\n",
    "movie['year'] = 1972\r\n",
    "movie['rating'] = 9.2\r\n",
    "\r\n",
    "print(movie)"
   ],
   "outputs": [
    {
     "output_type": "stream",
     "name": "stdout",
     "text": [
      "{'title': 'The Godfather', 'director': 'Francis Ford Coppola', 'year': 1972, 'rating': 9.2}\n"
     ]
    }
   ],
   "metadata": {}
  },
  {
   "cell_type": "code",
   "execution_count": 36,
   "source": [
    "movie['actors'] = ['Marlon Brando', 'Al Pacino', 'James Caan']\r\n",
    "movie['other_details'] = {\r\n",
    "'runtime': 175,\r\n",
    "'language': 'English'\r\n",
    "}\r\n",
    "\r\n",
    "# printing the new dictionary\r\n",
    "print(movie)"
   ],
   "outputs": [
    {
     "output_type": "stream",
     "name": "stdout",
     "text": [
      "{'title': 'The Godfather', 'director': 'Francis Ford Coppola', 'year': 1972, 'rating': 9.2, 'actors': ['Marlon Brando', 'Al Pacino', 'James Caan'], 'other_details': {'runtime': 175, 'language': 'English'}}\n"
     ]
    }
   ],
   "metadata": {}
  },
  {
   "cell_type": "markdown",
   "source": [
    "## Exercise 6"
   ],
   "metadata": {}
  },
  {
   "cell_type": "code",
   "execution_count": 39,
   "source": [
    "employees = [\r\n",
    "    {\"name\": \"John Mckee\", \"age\": \"38\", \"department\": \"Sales\"},\r\n",
    "    {\"name\": \"Lisa Crawford\", \"age\": \"29\", \"department\": \"Marketing\"},\r\n",
    "    {\"name\": \"Sujan Patel\", \"age\": \"33\", \"department\": \"HR\"},\r\n",
    "]\r\n",
    "print(employees)"
   ],
   "outputs": [
    {
     "output_type": "stream",
     "name": "stdout",
     "text": [
      "[{'name': 'John Mckee', 'age': '38', 'department': 'Sales'}, {'name': 'Lisa Crawford', 'age': '29', 'department': 'Marketing'}, {'name': 'Sujan Patel', 'age': '33', 'department': 'HR'}]\n"
     ]
    }
   ],
   "metadata": {}
  },
  {
   "cell_type": "code",
   "execution_count": 42,
   "source": [
    "for emp in employees: \r\n",
    "    print(\"Name: \" + emp[\"name\"])\r\n",
    "    print(\"Age: \" + emp[\"age\"])\r\n",
    "    print(\"Department: \" + emp[\"department\"])\r\n",
    "    print(\"-\" * 20)"
   ],
   "outputs": [
    {
     "output_type": "stream",
     "name": "stdout",
     "text": [
      "Name: John Mckee\n",
      "Age: 38\n",
      "Department: Sales\n",
      "--------------------\n",
      "Name: Lisa Crawford\n",
      "Age: 29\n",
      "Department: Marketing\n",
      "--------------------\n",
      "Name: Sujan Patel\n",
      "Age: 33\n",
      "Department: HR\n",
      "--------------------\n"
     ]
    }
   ],
   "metadata": {}
  },
  {
   "cell_type": "code",
   "execution_count": 43,
   "source": [
    "for emp in employees:\r\n",
    "    if emp[\"name\"] == 'Sujan Patel':\r\n",
    "        print(\"Name: \" + emp[\"name\"])\r\n",
    "        print(\"Age: \" + emp[\"age\"])\r\n",
    "        print(\"Department: \" + emp[\"department\"])\r\n",
    "        print(\"-\" * 20)"
   ],
   "outputs": [
    {
     "output_type": "stream",
     "name": "stdout",
     "text": [
      "Name: Sujan Patel\n",
      "Age: 33\n",
      "Department: HR\n",
      "--------------------\n"
     ]
    }
   ],
   "metadata": {}
  },
  {
   "cell_type": "markdown",
   "source": [
    "## Exercise 7"
   ],
   "metadata": {}
  },
  {
   "cell_type": "code",
   "execution_count": 46,
   "source": [
    "orders = {'apple':5, 'orange':3, 'banana':2}\r\n",
    "print(orders.values())\r\n",
    "print(list(orders.values()))"
   ],
   "outputs": [
    {
     "output_type": "stream",
     "name": "stdout",
     "text": [
      "dict_values([5, 3, 2])\n",
      "[5, 3, 2]\n"
     ]
    }
   ],
   "metadata": {}
  },
  {
   "cell_type": "code",
   "execution_count": 47,
   "source": [
    "print(list(orders.keys()))"
   ],
   "outputs": [
    {
     "output_type": "stream",
     "name": "stdout",
     "text": [
      "['apple', 'orange', 'banana']\n"
     ]
    }
   ],
   "metadata": {}
  },
  {
   "cell_type": "code",
   "execution_count": 48,
   "source": [
    "for tuple in list(orders.items()):\r\n",
    "    print(tuple)"
   ],
   "outputs": [
    {
     "output_type": "stream",
     "name": "stdout",
     "text": [
      "('apple', 5)\n",
      "('orange', 3)\n",
      "('banana', 2)\n"
     ]
    }
   ],
   "metadata": {}
  },
  {
   "cell_type": "markdown",
   "source": [
    "## Exercise 8"
   ],
   "metadata": {}
  },
  {
   "cell_type": "code",
   "execution_count": 49,
   "source": [
    "t = ('bread', 'milk', 'eggs')\r\n",
    "len(t)"
   ],
   "outputs": [
    {
     "output_type": "execute_result",
     "data": {
      "text/plain": [
       "3"
      ]
     },
     "metadata": {},
     "execution_count": 49
    }
   ],
   "metadata": {}
  },
  {
   "cell_type": "code",
   "execution_count": 53,
   "source": [
    "# t.append('apple')   # 'tuple' object has no attribute 'append'\r\n",
    "# t[2] = 'apple'        # 'tuple' object does not support item assignment"
   ],
   "outputs": [],
   "metadata": {}
  },
  {
   "cell_type": "code",
   "execution_count": 56,
   "source": [
    "print(t + ('apple', 'orange'))\r\n",
    "print(t)"
   ],
   "outputs": [
    {
     "output_type": "stream",
     "name": "stdout",
     "text": [
      "('bread', 'milk', 'eggs', 'apple', 'orange')\n",
      "('bread', 'milk', 'eggs')\n"
     ]
    }
   ],
   "metadata": {}
  },
  {
   "cell_type": "code",
   "execution_count": 57,
   "source": [
    "t_mixed = 'apple', True, 3\r\n",
    "print(t_mixed)\r\n",
    "t_shopping = ('apple',3), ('orange',2), ('banana',5)\r\n",
    "print(t_shopping)"
   ],
   "outputs": [
    {
     "output_type": "stream",
     "name": "stdout",
     "text": [
      "('apple', True, 3)\n",
      "(('apple', 3), ('orange', 2), ('banana', 5))\n"
     ]
    }
   ],
   "metadata": {}
  },
  {
   "cell_type": "markdown",
   "source": [
    "## Exercise 9"
   ],
   "metadata": {}
  },
  {
   "cell_type": "code",
   "execution_count": 60,
   "source": [
    "s1 = set([1, 2, 3, 4, 5, 6])\r\n",
    "print(s1)\r\n",
    "\r\n",
    "s2 = set([1,2,2,3,4,4,5,6,6])       # duplicate items are not preserved\r\n",
    "print(s2)\r\n",
    "\r\n",
    "s3 = set([3,4,5,6,6,6,1,1,2])       # original order is not preserved\r\n",
    "print(s3)"
   ],
   "outputs": [
    {
     "output_type": "stream",
     "name": "stdout",
     "text": [
      "{1, 2, 3, 4, 5, 6}\n",
      "{1, 2, 3, 4, 5, 6}\n",
      "{1, 2, 3, 4, 5, 6}\n"
     ]
    }
   ],
   "metadata": {}
  },
  {
   "cell_type": "code",
   "execution_count": 69,
   "source": [
    "s4 = {\"apple\", \"orange\", \"banana\"}\r\n",
    "print(s4)\r\n",
    "print(sorted(s4))"
   ],
   "outputs": [
    {
     "output_type": "stream",
     "name": "stdout",
     "text": [
      "{'banana', 'apple', 'orange'}\n",
      "['apple', 'banana', 'orange']\n"
     ]
    }
   ],
   "metadata": {}
  },
  {
   "cell_type": "code",
   "execution_count": 70,
   "source": [
    "s4.add('pineapple')\r\n",
    "print(s4)\r\n",
    "print(sorted(s4))"
   ],
   "outputs": [
    {
     "output_type": "stream",
     "name": "stdout",
     "text": [
      "{'banana', 'pineapple', 'apple', 'orange'}\n",
      "['apple', 'banana', 'orange', 'pineapple']\n"
     ]
    }
   ],
   "metadata": {}
  },
  {
   "cell_type": "markdown",
   "source": [
    "## Exercise 10"
   ],
   "metadata": {}
  },
  {
   "cell_type": "code",
   "execution_count": 71,
   "source": [
    "# OR or Union operation\r\n",
    "s5 = {1,2,3,4}\r\n",
    "s6 = {3,4,5,6}\r\n",
    "\r\n",
    "print(s5 | s6)\r\n",
    "print(s5.union(s6))"
   ],
   "outputs": [
    {
     "output_type": "stream",
     "name": "stdout",
     "text": [
      "{1, 2, 3, 4, 5, 6}\n",
      "{1, 2, 3, 4, 5, 6}\n"
     ]
    }
   ],
   "metadata": {}
  },
  {
   "cell_type": "code",
   "execution_count": 74,
   "source": [
    "# AND or intersection operation\r\n",
    "print(s5 & s6)\r\n",
    "print(s5.intersection(s6))"
   ],
   "outputs": [
    {
     "output_type": "stream",
     "name": "stdout",
     "text": [
      "{3, 4}\n",
      "{3, 4}\n"
     ]
    }
   ],
   "metadata": {}
  },
  {
   "cell_type": "code",
   "execution_count": 75,
   "source": [
    "# difference operation\r\n",
    "print(s5 - s6)\r\n",
    "print(s5.difference(s6))"
   ],
   "outputs": [
    {
     "output_type": "stream",
     "name": "stdout",
     "text": [
      "{1, 2}\n",
      "{1, 2}\n"
     ]
    }
   ],
   "metadata": {}
  },
  {
   "cell_type": "code",
   "execution_count": 76,
   "source": [
    "# subset checking\r\n",
    "print(s5 <= s6)\r\n",
    "print(s5.issubset(s6))\r\n",
    "\r\n",
    "s7 = {1,2,3}\r\n",
    "s8 = {1,2,3,4,5}\r\n",
    "print(s7 <= s8)\r\n",
    "print(s7.issubset(s8))"
   ],
   "outputs": [
    {
     "output_type": "stream",
     "name": "stdout",
     "text": [
      "False\n",
      "False\n",
      "True\n",
      "True\n"
     ]
    }
   ],
   "metadata": {}
  },
  {
   "cell_type": "code",
   "execution_count": 77,
   "source": [
    "print(s7 < s8)\r\n",
    "s9 = {1,2,3}\r\n",
    "s10 = {1,2,3}\r\n",
    "print(s9 < s10)\r\n",
    "print(s9 < s9)"
   ],
   "outputs": [
    {
     "output_type": "stream",
     "name": "stdout",
     "text": [
      "True\n",
      "False\n",
      "False\n"
     ]
    }
   ],
   "metadata": {}
  },
  {
   "cell_type": "code",
   "execution_count": 78,
   "source": [
    "# superset\r\n",
    "print(s8 >= s7)\r\n",
    "print(s8.issuperset(s7))\r\n",
    "print(s8 > s7)\r\n",
    "print(s8 > s8)"
   ],
   "outputs": [
    {
     "output_type": "stream",
     "name": "stdout",
     "text": [
      "True\n",
      "True\n",
      "True\n",
      "False\n"
     ]
    }
   ],
   "metadata": {}
  }
 ],
 "metadata": {
  "orig_nbformat": 4,
  "language_info": {
   "name": "python",
   "version": "3.9.6",
   "mimetype": "text/x-python",
   "codemirror_mode": {
    "name": "ipython",
    "version": 3
   },
   "pygments_lexer": "ipython3",
   "nbconvert_exporter": "python",
   "file_extension": ".py"
  },
  "kernelspec": {
   "name": "python3",
   "display_name": "Python 3.9.6 64-bit"
  },
  "interpreter": {
   "hash": "4a15a8350f781044c0a330f52c29cbc032f750b45230b27500680e010145e1d1"
  }
 },
 "nbformat": 4,
 "nbformat_minor": 2
}