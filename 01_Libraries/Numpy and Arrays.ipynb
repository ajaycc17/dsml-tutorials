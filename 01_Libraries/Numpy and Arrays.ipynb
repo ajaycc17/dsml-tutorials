{
 "cells": [
  {
   "cell_type": "markdown",
   "source": [
    "## Assignment 2 \r\n",
    "### Ajay Choudhury (18018) &middot; BS 2018 EECS\r\n",
    "### Due Date: 26 September 2021, Sunday, 11.00 am"
   ],
   "metadata": {}
  },
  {
   "cell_type": "markdown",
   "source": [
    "### Example: Basic Numpy\n",
    "\n",
    "(1) Create a NumPy array with the integers from your birthdate (year,\n",
    "    month, and day)\n",
    "\n",
    "(2) Retrieve the year.\n",
    "\n",
    "(3) Replace the year with the current year.\n",
    "\n",
    "(4) Create a NumPy array containing every 3rd number from 567 to 890. What is the 8th number in this array?  What is the 15th?"
   ],
   "metadata": {}
  },
  {
   "cell_type": "code",
   "execution_count": 2,
   "source": [
    "import numpy as np"
   ],
   "outputs": [],
   "metadata": {}
  },
  {
   "cell_type": "code",
   "execution_count": 3,
   "source": [
    "# 1\r\n",
    "a = np.array([1986, 12, 24])"
   ],
   "outputs": [],
   "metadata": {}
  },
  {
   "cell_type": "code",
   "execution_count": 4,
   "source": [
    "# 2\r\n",
    "a[0]"
   ],
   "outputs": [
    {
     "output_type": "execute_result",
     "data": {
      "text/plain": [
       "1986"
      ]
     },
     "metadata": {},
     "execution_count": 4
    }
   ],
   "metadata": {}
  },
  {
   "cell_type": "code",
   "execution_count": 5,
   "source": [
    "# 3\r\n",
    "a[0] = 2021"
   ],
   "outputs": [],
   "metadata": {}
  },
  {
   "cell_type": "code",
   "execution_count": 6,
   "source": [
    "# 4\r\n",
    "a= np.arange(567, 890, 3)\r\n",
    "a"
   ],
   "outputs": [
    {
     "output_type": "execute_result",
     "data": {
      "text/plain": [
       "array([567, 570, 573, 576, 579, 582, 585, 588, 591, 594, 597, 600, 603,\n",
       "       606, 609, 612, 615, 618, 621, 624, 627, 630, 633, 636, 639, 642,\n",
       "       645, 648, 651, 654, 657, 660, 663, 666, 669, 672, 675, 678, 681,\n",
       "       684, 687, 690, 693, 696, 699, 702, 705, 708, 711, 714, 717, 720,\n",
       "       723, 726, 729, 732, 735, 738, 741, 744, 747, 750, 753, 756, 759,\n",
       "       762, 765, 768, 771, 774, 777, 780, 783, 786, 789, 792, 795, 798,\n",
       "       801, 804, 807, 810, 813, 816, 819, 822, 825, 828, 831, 834, 837,\n",
       "       840, 843, 846, 849, 852, 855, 858, 861, 864, 867, 870, 873, 876,\n",
       "       879, 882, 885, 888])"
      ]
     },
     "metadata": {},
     "execution_count": 6
    }
   ],
   "metadata": {}
  },
  {
   "cell_type": "code",
   "execution_count": 7,
   "source": [
    "a[8]"
   ],
   "outputs": [
    {
     "output_type": "execute_result",
     "data": {
      "text/plain": [
       "591"
      ]
     },
     "metadata": {},
     "execution_count": 7
    }
   ],
   "metadata": {}
  },
  {
   "cell_type": "code",
   "execution_count": 8,
   "source": [
    "a[15]"
   ],
   "outputs": [
    {
     "output_type": "execute_result",
     "data": {
      "text/plain": [
       "612"
      ]
     },
     "metadata": {},
     "execution_count": 8
    }
   ],
   "metadata": {}
  },
  {
   "cell_type": "markdown",
   "source": [
    "### Exercise 1 Basic Numpy\n",
    "\n",
    "(1) Create an array of 10 random integers, from 0-100.\n",
    "\n",
    "(2) Find the mean and standard deviation of these numbers.  \n",
    "\n",
    "(3) Create another array of 10 random integers, from 0-100.\n",
    "\n",
    "(4) Create a new array whose elements are the average of those from\n",
    "    each of the previous ones.  \n",
    "\n",
    "(5) Create an array of 10 random floats, from 0-100.\n",
    "\n",
    "(6) We would expect the mean to be approaximately 50.  Is it?  What's\n",
    "    the standard deviation?\n",
    "\n",
    "(7) What are the min and max values?"
   ],
   "metadata": {}
  },
  {
   "cell_type": "code",
   "execution_count": 58,
   "source": [
    "numArray = np.random.randint(0, 100, 10)\r\n",
    "print(numArray)\r\n",
    "\r\n",
    "# mean\r\n",
    "meanArray = numArray.mean()\r\n",
    "print(meanArray)\r\n",
    "\r\n",
    "# standard deviation\r\n",
    "stdArray = numArray.std()\r\n",
    "print(stdArray)\r\n",
    "\r\n",
    "# another array\r\n",
    "numArray2 = np.random.randint(0, 100, 10)\r\n",
    "print(numArray2)\r\n",
    "\r\n",
    "# array of averages\r\n",
    "avgArray = np.array([meanArray, numArray2.mean()])\r\n",
    "print(avgArray)\r\n",
    "\r\n",
    "# array of random floats\r\n",
    "floatArray = np.random.rand(10) *100\r\n",
    "print(floatArray)\r\n",
    "\r\n",
    "# mean and standard deviation\r\n",
    "floatMean = floatArray.mean()\r\n",
    "print(floatMean)\r\n",
    "floatStd = floatArray.std()\r\n",
    "print(floatStd)\r\n",
    "\r\n",
    "# min and max values\r\n",
    "floatMin = floatArray.min()\r\n",
    "print(floatMin)\r\n",
    "floatMax = floatArray.max()\r\n",
    "print(floatMax)\r\n"
   ],
   "outputs": [
    {
     "output_type": "stream",
     "name": "stdout",
     "text": [
      "[92 87 96 98 62  1 95 64  7 52]\n",
      "65.4\n",
      "34.35171029221107\n",
      "[89 34 61 65 56 98 58 76 71 78]\n",
      "[65.4 68.6]\n",
      "[21.82610734 67.55824581 60.52398523 11.22026301 39.47377178  9.73702384\n",
      " 24.9136568  90.60543408 96.44754742 95.54087967]\n",
      "51.784691495782035\n",
      "33.05482151867776\n",
      "9.737023836564894\n",
      "96.44754741541014\n"
     ]
    }
   ],
   "metadata": {}
  },
  {
   "cell_type": "markdown",
   "source": [
    "### Exercise 2 Indexing\r\n",
    "\r\n",
    "(1) Create an array of 20 random integers from 0 to 100.\r\n",
    "\r\n",
    "(2) Find the largest even number.\r\n",
    "\r\n",
    "(3) Find the mean of the odd numbers.\r\n",
    "\r\n",
    "(4) Create a NumPy array from the first and last odd numbers.\r\n",
    "\r\n",
    "(5) Create an array of 20 floats from 0-1,000.\r\n",
    "\r\n",
    "(6) Find the items that are less than the mean.\r\n",
    "\r\n",
    "(7) Find the items less than mean-std."
   ],
   "metadata": {}
  },
  {
   "cell_type": "code",
   "execution_count": 90,
   "source": [
    "arr = np.random.randint(0, 100, 20)\r\n",
    "print(arr)\r\n",
    "\r\n",
    "# largest even number\r\n",
    "largestEven = arr[arr % 2 == 0].max()\r\n",
    "print(largestEven)\r\n",
    "\r\n",
    "# mean of odd\r\n",
    "meanOdd = arr[arr % 2 != 0].mean()\r\n",
    "print(meanOdd)\r\n",
    "\r\n",
    "# array from first and last odd numbers\r\n",
    "oddArray = arr[arr % 2 == 1][[0, -1]]\r\n",
    "print(oddArray)\r\n",
    "\r\n",
    "# float array 0-1000\r\n",
    "floatArr = np.random.rand(20) * 1000\r\n",
    "print(floatArr)\r\n",
    "# print(\"\\n\")\r\n",
    "\r\n",
    "# items less than mean\r\n",
    "lessMean = floatArr[floatArr < floatArr.mean()]\r\n",
    "print(lessMean)\r\n",
    "# print(\"\\n\")\r\n",
    "\r\n",
    "# less than mean-std\r\n",
    "lessMStd = floatArr[floatArr < (floatArr.mean() - floatArr.std())]\r\n",
    "print(lessMStd)\r\n"
   ],
   "outputs": [
    {
     "output_type": "stream",
     "name": "stdout",
     "text": [
      "[37 83 54 28 30  2 64 85 31  4 74 11 80 21  5 45 44 18 53 71]\n",
      "80\n",
      "44.2\n",
      "[37 71]\n",
      "[ 46.89023873  47.47489808 694.632358   612.66806401 875.99837675\n",
      " 407.30096774 528.3949342  140.18989125 106.88213274 818.43663767\n",
      " 750.24682908 651.63504096  90.80000393 854.89911408 971.77679676\n",
      " 776.21453223 980.99486902 846.33453592 377.21606522  41.3109893 ]\n",
      "[ 46.89023873  47.47489808 407.30096774 528.3949342  140.18989125\n",
      " 106.88213274  90.80000393 377.21606522  41.3109893 ]\n",
      "[ 46.89023873  47.47489808 140.18989125 106.88213274  90.80000393\n",
      "  41.3109893 ]\n"
     ]
    }
   ],
   "metadata": {}
  },
  {
   "cell_type": "markdown",
   "source": [
    "### Exercise 3 More indexing\r\n",
    "\r\n",
    "(1) Create a NumPy array of 20 random integers from 0-100.\r\n",
    "\r\n",
    "(2) What's the smallest even number greater than the mean?\r\n",
    "\r\n",
    "(3) Show all numbers either < mean-std OR > mean+std.\r\n",
    "\r\n",
    "(4) Show odd numbers < mean and even numbers > mean."
   ],
   "metadata": {}
  },
  {
   "cell_type": "code",
   "execution_count": 119,
   "source": [
    "arr = np.random.randint(0, 100, 20)\r\n",
    "print(arr)\r\n",
    "# print(\"\\n\")\r\n",
    "\r\n",
    "# smallest even number greater than mean\r\n",
    "try:\r\n",
    "    evenMin = arr[(arr % 2 == 0) & (arr > arr.mean())].min()\r\n",
    "    print(evenMin)\r\n",
    "except:\r\n",
    "    print(\"Even number greater than mean doesn't exist.\")\r\n",
    "\r\n",
    "# either less than mean-std OR greater than mean+std\r\n",
    "thirdPart = arr[(arr < (arr.mean() - arr.std())) |\r\n",
    "                (arr > (arr.mean() + arr.std()))]\r\n",
    "print(thirdPart)\r\n",
    "\r\n",
    "# odd numbers < mean and even numbers > mean\r\n",
    "fourthPart = arr[((arr % 2 != 0) & (arr < arr.mean())) |\r\n",
    "                 ((arr % 2 == 0) & (arr > arr.mean()))]\r\n",
    "print(fourthPart)\r\n"
   ],
   "outputs": [
    {
     "output_type": "stream",
     "name": "stdout",
     "text": [
      "[73 32 20 67 35 51 41 19 49 81 11 92  9 76 44 78  4 23 74 47]\n",
      "74\n",
      "[73 19 81 11 92  9 76 78  4 74]\n",
      "46.3\n",
      "[35 41 19 11 92  9 76 78 23 74]\n"
     ]
    }
   ],
   "metadata": {}
  },
  {
   "cell_type": "markdown",
   "source": [
    "### Exercise 4 Assigning via indexes\n",
    "\n",
    "(1) Create a NumPy array of 40 random integers, from 0-100.\n",
    "\n",
    "(2) Find all numbers that are within 1 standard deviation of the mean,\n",
    "    and set them to be equal to the mean.  Has the mean changed?  Has\n",
    "    the std changed?\n",
    "\n",
    "(3) Create another NumPy array of 10 random integers, from 0-100.\n",
    "\n",
    "(4) Set the item at the even indexes to be equal to the items at the odd\n",
    "    indexes.  So index 0 will get the value at index 1, etc.\n"
   ],
   "metadata": {}
  },
  {
   "cell_type": "code",
   "execution_count": 242,
   "source": [
    "arr = np.random.randint(0, 100, 40)\r\n",
    "print(arr)\r\n",
    "print(arr.mean())\r\n",
    "print(arr.std())\r\n",
    "\r\n",
    "# second part\r\n",
    "arr[(arr >= arr.mean() - arr.std()) & (arr <= arr.mean() + arr.std())] = arr.mean()\r\n",
    "print(arr)\r\n",
    "print(arr.mean())\r\n",
    "print(arr.std())\r\n",
    "# The mean and the standard deviation gets changed\r\n",
    "\r\n",
    "# 10 random integers 0-100\r\n",
    "arr2 = np.random.randint(0, 100, 10)\r\n",
    "print(arr2)\r\n",
    "\r\n",
    "# set items at even places with the values of those at odd position\r\n",
    "arr2[np.arange(0, 10, 2)] = arr2[np.arange(1, 10, 2)]\r\n",
    "print(arr2)"
   ],
   "outputs": [
    {
     "output_type": "stream",
     "name": "stdout",
     "text": [
      "[13 92 73 21 13 23 34 22 82 57 65 11 70 66 99 67 17 38 50  9 86 30 41 97\n",
      " 13 74  5 76 99 67  0 64 31 13 31 30 31 48 52 67]\n",
      "46.925\n",
      "28.943382231522286\n",
      "[13 92 46 46 13 46 46 46 82 46 46 11 46 46 99 46 17 46 46  9 86 46 46 97\n",
      " 13 46  5 76 99 46  0 46 46 13 46 46 46 46 46 46]\n",
      "45.725\n",
      "25.3554604572664\n",
      "[62  3 24 39 29  4  7 60  9 59]\n",
      "[ 3  3 39 39  4  4 60 60 59 59]\n"
     ]
    }
   ],
   "metadata": {}
  },
  {
   "cell_type": "markdown",
   "source": [
    "### Exercise 5 Data types\r\n",
    "\r\n",
    "(1) Create a NumPy array of 10 random integers from 0-100.\r\n",
    "\r\n",
    "(2) Calculate the mean, which will be a float.\r\n",
    "\r\n",
    "(3) Create an array of type float based on it, and replace the\r\n",
    "    outliers (i.e., \\<mean-std or >mean+std) with the mean.\r\n",
    "\r\n",
    "(4) Create a NumPy array of 20 random floats from 0-100.\r\n",
    "\r\n",
    "(5) Replace those numbers whose int portion is even with the mean.\r\n",
    "    (So 20.5 would be replaced, but 21.5 would not be.)"
   ],
   "metadata": {}
  },
  {
   "cell_type": "code",
   "execution_count": 180,
   "source": [
    "arr = np.random.randint(0, 100, 10)\r\n",
    "print(arr)\r\n",
    "\r\n",
    "# mean\r\n",
    "arrMean = arr.mean()\r\n",
    "print(arrMean)\r\n",
    "print(arr)\r\n",
    "\r\n",
    "# typecast to float -- new array\r\n",
    "arr2 = arr.astype(np.float32)\r\n",
    "print(arr2)\r\n",
    "\r\n",
    "# remove outliers\r\n",
    "arr2[(arr2 < (arr2.mean() - arr2.std())) |\r\n",
    "     (arr2 > (arr2.mean() + arr2.std()))] = arr2.mean()\r\n",
    "print(arr2)\r\n",
    "\r\n",
    "# new array of 20 random float numbers\r\n",
    "arr3 = np.random.rand(20) * 100\r\n",
    "print(arr3)\r\n",
    "\r\n",
    "# replace numbers with even int part with mean\r\n",
    "arr3[arr3.astype(np.int32)%2==0] = arr3.mean()\r\n",
    "print(arr3)"
   ],
   "outputs": [
    {
     "output_type": "stream",
     "name": "stdout",
     "text": [
      "[35 52 44 21 85 76 39 53 29 78]\n",
      "51.2\n",
      "[35 52 44 21 85 76 39 53 29 78]\n",
      "[35. 52. 44. 21. 85. 76. 39. 53. 29. 78.]\n",
      "[35.  52.  44.  51.2 51.2 51.2 39.  53.  51.2 51.2]\n",
      "[56.78439614 40.40087796 88.59049207 56.68406548 98.25473442  8.48978851\n",
      "  6.89606277  3.53835566 63.45819962 54.44392831 98.31594137  9.59922436\n",
      " 84.80439848 53.71009972 26.65555979 64.34152663 52.28165425 94.40410825\n",
      " 39.53880606 84.44882926]\n",
      "54.28205245547787\n",
      "[54.28205246 54.28205246 54.28205246 54.28205246 54.28205246 54.28205246\n",
      " 54.28205246  3.53835566 63.45819962 54.28205246 54.28205246  9.59922436\n",
      " 54.28205246 53.71009972 54.28205246 54.28205246 54.28205246 54.28205246\n",
      " 39.53880606 54.28205246]\n"
     ]
    }
   ],
   "metadata": {}
  },
  {
   "cell_type": "markdown",
   "source": [
    "### Exercise 6 nan\r\n",
    "\r\n",
    "(1) Create a NumPy array of 30 random ints from 0-1000.\r\n",
    "\r\n",
    "(2) Find the numbers that are \\<mean-std or >mean+std, and set them to\r\n",
    "    be nan\r\n",
    "\r\n",
    "(3) Now change those nan values to be the mean of the array's\r\n",
    "    elements."
   ],
   "metadata": {}
  },
  {
   "cell_type": "code",
   "execution_count": 243,
   "source": [
    "arr = np.random.randint(0, 1000, 30)\r\n",
    "arrMean = arr.mean()\r\n",
    "arrStd = arr.std()\r\n",
    "\r\n",
    "arr = arr.astype(np.float64)\r\n",
    "print(arr)\r\n",
    "\r\n",
    "# setting numbers to NaN\r\n",
    "arr[(arr < (arr.mean()-arr.std())) |\r\n",
    "    (arr > (arr.mean()+arr.std()))] = np.nan\r\n",
    "print(arr)\r\n",
    "\r\n",
    "# change nan values to mean\r\n",
    "arr[np.isnan(arr)] = arr[~np.isnan(arr)].mean()\r\n",
    "print(arr)\r\n",
    "\r\n",
    "# # back to int\r\n",
    "arr = arr.astype(np.int64)\r\n",
    "print(arr)\r\n"
   ],
   "outputs": [
    {
     "output_type": "stream",
     "name": "stdout",
     "text": [
      "[673. 437. 209. 901. 431. 906. 909. 419. 209.  46. 384. 905. 344. 958.\n",
      " 635. 222. 288. 993.  83. 479. 780. 348.  11. 504. 137. 986. 779. 103.\n",
      " 501. 528.]\n",
      "[673. 437. 209.  nan 431.  nan  nan 419. 209.  nan 384.  nan 344.  nan\n",
      " 635. 222. 288.  nan  nan 479. 780. 348.  nan 504.  nan  nan 779.  nan\n",
      " 501. 528.]\n",
      "[673.         437.         209.         453.88888889 431.\n",
      " 453.88888889 453.88888889 419.         209.         453.88888889\n",
      " 384.         453.88888889 344.         453.88888889 635.\n",
      " 222.         288.         453.88888889 453.88888889 479.\n",
      " 780.         348.         453.88888889 504.         453.88888889\n",
      " 453.88888889 779.         453.88888889 501.         528.        ]\n",
      "[673 437 209 453 431 453 453 419 209 453 384 453 344 453 635 222 288 453\n",
      " 453 479 780 348 453 504 453 453 779 453 501 528]\n"
     ]
    }
   ],
   "metadata": {}
  },
  {
   "cell_type": "markdown",
   "source": [
    "### Exercise 7 Multidimensional NumPy\n",
    "\n",
    "(1) Create a 2-dimensional NumPy array of 45 random integers, from 0-100.\n",
    "\n",
    "(2) Retrieve the elements at row index 2.\n",
    "\n",
    "(3) Retrieve the elements at column index 3.\n",
    "\n",
    "(4) Retrieve the elements at row indexes 1 and 4.\n",
    "\n",
    "(5) Retrieve the elements at column indexes 1 and 4.\n",
    "\n",
    "(6) Get the mean of the even numbers in row index 4.\n",
    "\n",
    "(7) Get the mean of the odd numbers in column index 4."
   ],
   "metadata": {}
  },
  {
   "cell_type": "code",
   "execution_count": 222,
   "source": [
    "arr = np.random.randint(0, 100, 45)\r\n",
    "print(arr)\r\n",
    "\r\n",
    "# multidimensional\r\n",
    "arr.shape = (9, 5)\r\n",
    "print(arr)\r\n",
    "\r\n",
    "# elements at row 2\r\n",
    "print(arr[2])\r\n",
    "\r\n",
    "# elements at column 3\r\n",
    "print(arr[:, 3])\r\n",
    "\r\n",
    "# elements at row 1 to 4\r\n",
    "print(arr[[1,4], :])\r\n",
    "\r\n",
    "# elements at column 1 to 4\r\n",
    "print(arr[:, [1,4]])\r\n",
    "\r\n",
    "# mean of even numbers at row index 4\r\n",
    "fourthMean = arr[4][arr[4] % 2 == 0].mean()\r\n",
    "print(fourthMean)\r\n",
    "\r\n",
    "# mean of odd numbers at column index 4\r\n",
    "fourthColMean = arr[:, 4][arr[:, 4] % 2 != 0].mean()\r\n",
    "print(fourthColMean)\r\n"
   ],
   "outputs": [
    {
     "output_type": "stream",
     "name": "stdout",
     "text": [
      "[70 99 86  6 75 16 88 63 93 19  7 46 33 95 28  5 79 95 24 61 41 30 23 77\n",
      " 33  4 83 25 59  2 14 84 82 60  5 65 78 73 26 31 76 57 18  8 34]\n",
      "[[70 99 86  6 75]\n",
      " [16 88 63 93 19]\n",
      " [ 7 46 33 95 28]\n",
      " [ 5 79 95 24 61]\n",
      " [41 30 23 77 33]\n",
      " [ 4 83 25 59  2]\n",
      " [14 84 82 60  5]\n",
      " [65 78 73 26 31]\n",
      " [76 57 18  8 34]]\n",
      "[ 7 46 33 95 28]\n",
      "[ 6 93 95 24 77 59 60 26  8]\n",
      "[[16 88 63 93 19]\n",
      " [41 30 23 77 33]]\n",
      "[[99 75]\n",
      " [88 19]\n",
      " [46 28]\n",
      " [79 61]\n",
      " [30 33]\n",
      " [83  2]\n",
      " [84  5]\n",
      " [78 31]\n",
      " [57 34]]\n",
      "30.0\n",
      "37.333333333333336\n"
     ]
    }
   ],
   "metadata": {}
  },
  {
   "cell_type": "markdown",
   "source": [
    "### Exercise 8 More Multidimensional\n",
    "\n",
    "(1) Create a 6x6 NumPy array with random integers from 0-100.\n",
    "\n",
    "(2) What is the mean of each column?\n",
    "\n",
    "(3) Replace all even numbers in the array with twice their values. (So\n",
    "    20 will become 40, and 40 will become 80.)\n",
    "\n",
    "(4) Once again, calculate the mean of each column\n",
    "\n",
    "(5) Now transpose the array and calculate the mean of each row.  Is it\n",
    "    the same as you got before?\n",
    "\n",
    "(6) Now sort each of the columns in the transposed array.  What does\n",
    "    it look like now?"
   ],
   "metadata": {}
  },
  {
   "cell_type": "code",
   "execution_count": 244,
   "source": [
    "arr = np.random.randint(0, 100, 36).reshape(6,6)\r\n",
    "print(arr)\r\n",
    "\r\n",
    "# mean of each column\r\n",
    "meanArr = arr.mean(axis=0)\r\n",
    "print(meanArr)\r\n",
    "print(\"\\n\")\r\n",
    "\r\n",
    "# replace all even with double\r\n",
    "arr[arr%2==0] = arr[arr%2==0]*2\r\n",
    "print(arr)\r\n",
    "\r\n",
    "# mean of each column\r\n",
    "meanArr1 = arr.mean(axis=0)\r\n",
    "print(meanArr1)\r\n",
    "print(\"\\n\")\r\n",
    "\r\n",
    "# transpose array and mean of each row\r\n",
    "arr = arr.T\r\n",
    "print(arr)\r\n",
    "meanRows = arr.mean(axis=1)\r\n",
    "print(meanRows)\r\n",
    "# mean of columns = mean of rows after transposing\r\n",
    "\r\n",
    "# sort columns in transposed array\r\n",
    "arr.sort(axis=0)\r\n",
    "print(arr)"
   ],
   "outputs": [
    {
     "output_type": "stream",
     "name": "stdout",
     "text": [
      "[[11 65 53 76 35 19]\n",
      " [88 15 15 95 90 14]\n",
      " [41 75 60 64 99 72]\n",
      " [46 13  6 83 45 57]\n",
      " [61 43 78 68 87 49]\n",
      " [27 52 96 43 78 47]]\n",
      "[45.66666667 43.83333333 51.33333333 71.5        72.33333333 43.        ]\n",
      "\n",
      "\n",
      "[[ 11  65  53 152  35  19]\n",
      " [176  15  15  95 180  28]\n",
      " [ 41  75 120 128  99 144]\n",
      " [ 92  13  12  83  45  57]\n",
      " [ 61  43 156 136  87  49]\n",
      " [ 27 104 192  43 156  47]]\n",
      "[ 68.          52.5         91.33333333 106.16666667 100.33333333\n",
      "  57.33333333]\n",
      "\n",
      "\n",
      "[[ 11 176  41  92  61  27]\n",
      " [ 65  15  75  13  43 104]\n",
      " [ 53  15 120  12 156 192]\n",
      " [152  95 128  83 136  43]\n",
      " [ 35 180  99  45  87 156]\n",
      " [ 19  28 144  57  49  47]]\n",
      "[ 68.          52.5         91.33333333 106.16666667 100.33333333\n",
      "  57.33333333]\n",
      "[[ 11  15  41  12  43  27]\n",
      " [ 19  15  75  13  49  43]\n",
      " [ 35  28  99  45  61  47]\n",
      " [ 53  95 120  57  87 104]\n",
      " [ 65 176 128  83 136 156]\n",
      " [152 180 144  92 156 192]]\n"
     ]
    }
   ],
   "metadata": {}
  }
 ],
 "metadata": {
  "kernelspec": {
   "name": "python3",
   "display_name": "Python 3.9.7 64-bit"
  },
  "language_info": {
   "codemirror_mode": {
    "name": "ipython",
    "version": 3
   },
   "file_extension": ".py",
   "mimetype": "text/x-python",
   "name": "python",
   "nbconvert_exporter": "python",
   "pygments_lexer": "ipython3",
   "version": "3.9.7"
  },
  "interpreter": {
   "hash": "4a15a8350f781044c0a330f52c29cbc032f750b45230b27500680e010145e1d1"
  }
 },
 "nbformat": 4,
 "nbformat_minor": 4
}