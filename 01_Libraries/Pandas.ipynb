{
  "nbformat": 4,
  "nbformat_minor": 0,
  "metadata": {
    "colab": {
      "name": "Pandas.ipynb",
      "provenance": []
    },
    "kernelspec": {
      "name": "python3",
      "display_name": "Python 3"
    }
  },
  "cells": [
    {
      "cell_type": "markdown",
      "metadata": {
        "id": "ihTDJSnBWFQE"
      },
      "source": [
        "# Pandas \r\n",
        "\r\n",
        "Pandas is mainly used for data analysis. Pandas allows importing data from various file formats such as comma-separated values(CSV), JSON, SQL, Microsoft Excel. Pandas allows various data manipulation operations such as merging, reshaping, selecting, as well as data cleaning."
      ]
    },
    {
      "cell_type": "code",
      "metadata": {
        "id": "Ii4xAd3HrolI"
      },
      "source": [
        "# install pandas\r\n",
        "!pip install pandas"
      ],
      "execution_count": null,
      "outputs": []
    },
    {
      "cell_type": "code",
      "metadata": {
        "id": "NlkSrXcWrolI"
      },
      "source": [
        "# importing pandas\r\n",
        "import pandas as pd"
      ],
      "execution_count": null,
      "outputs": []
    },
    {
      "cell_type": "markdown",
      "metadata": {
        "id": "iyldCFosZf9Q"
      },
      "source": [
        ""
      ]
    },
    {
      "cell_type": "markdown",
      "metadata": {
        "id": "5fsot9J5uEo-"
      },
      "source": [
        "# Creating Dataframes"
      ]
    },
    {
      "cell_type": "code",
      "metadata": {
        "id": "mpsOcwxiq12y"
      },
      "source": [
        "# format for data (using lists)\r\n",
        "data = {\r\n",
        "    'apples': [3, 2, 0, 1], \r\n",
        "    'oranges': [0, 3, 7, 2]\r\n",
        "}"
      ],
      "execution_count": null,
      "outputs": []
    },
    {
      "cell_type": "code",
      "metadata": {
        "id": "rAviWioeq6JU"
      },
      "source": [
        "# creating a dataframe\r\n",
        "df = pd.DataFrame(data)\r\n",
        "df"
      ],
      "execution_count": null,
      "outputs": []
    },
    {
      "cell_type": "code",
      "metadata": {
        "id": "033n0879rAlf"
      },
      "source": [
        "# creating a dataframe with index\r\n",
        "df = pd.DataFrame(data, index=['June', 'Robert', 'Lily', 'David'])\r\n",
        "df"
      ],
      "execution_count": null,
      "outputs": []
    },
    {
      "cell_type": "code",
      "metadata": {
        "id": "ym1LCvnhxdHX"
      },
      "source": [
        "# using numpy\r\n",
        "import numpy as np\r\n",
        "\r\n",
        "data  = np.array([[1, 2],[3, 4], [4, 5], [6, 7]])\r\n",
        "\r\n",
        "df = pd.DataFrame(data, index=['June', 'Robert', 'Lily', 'David'], columns= ['apples', 'oranges'])\r\n",
        "df"
      ],
      "execution_count": null,
      "outputs": []
    },
    {
      "cell_type": "markdown",
      "metadata": {
        "id": "LlroT8XJuK4l"
      },
      "source": [
        "### How to access rows or columns?"
      ]
    },
    {
      "cell_type": "code",
      "metadata": {
        "id": "e6s62CXS43uZ"
      },
      "source": [
        "# accessing a row using index\r\n",
        "df.loc['June']\r\n",
        "\r\n",
        "# accessing rows using numerical index\r\n",
        "df[0:2] # you have give a range i.e. print from 0 to 1 rows\r\n",
        "# df[0] doesn't work"
      ],
      "execution_count": null,
      "outputs": []
    },
    {
      "cell_type": "code",
      "metadata": {
        "id": "pMW8hSWzsF4e"
      },
      "source": [
        "# accessing columns by column name\r\n",
        "df['apples']"
      ],
      "execution_count": null,
      "outputs": []
    },
    {
      "cell_type": "code",
      "metadata": {
        "id": "FCNFOveJoOyS"
      },
      "source": [
        "# access using index location\r\n",
        "df.iloc[2][1]"
      ],
      "execution_count": null,
      "outputs": []
    },
    {
      "cell_type": "markdown",
      "metadata": {
        "id": "bf4ip7RIuX7e"
      },
      "source": [
        "### Saving Dataframes"
      ]
    },
    {
      "cell_type": "markdown",
      "metadata": {
        "id": "0ZkZEO5ttUci"
      },
      "source": [
        "**JavaScript Object Notation** (JSON) is a standard text-based format for representing structured data based on JavaScript object syntax. It is commonly used for transmitting data in web applications.\r\n",
        "\r\n",
        "**CSV** format is a plain text format in which values are separated by commas (Comma Separated Values).\r\n",
        "\r\n",
        "**Excel** is a binary file that holds information about all the worksheets in a workbook."
      ]
    },
    {
      "cell_type": "code",
      "metadata": {
        "id": "Mwi-sLxbsiH_"
      },
      "source": [
        "# saving in csv format\r\n",
        "df.to_csv('Purchase.csv')\r\n",
        "\r\n",
        "# saving in excel format\r\n",
        "df.to_excel('Purchase.xlsx')\r\n",
        "\r\n",
        "# saving in json format\r\n",
        "df.to_json('Purchase.json')"
      ],
      "execution_count": null,
      "outputs": []
    },
    {
      "cell_type": "markdown",
      "metadata": {
        "id": "wvSKysXFui7t"
      },
      "source": [
        "### Reading Dataframes"
      ]
    },
    {
      "cell_type": "code",
      "metadata": {
        "id": "j6luZfauuh-j"
      },
      "source": [
        "# reading a csv format\r\n",
        "csv = pd.read_csv('Purchase.csv')\r\n",
        "\r\n",
        "# reading a excel format\r\n",
        "xls = pd.read_excel('Purchase.xlsx')\r\n",
        "\r\n",
        "# reading json format\r\n",
        "json = pd.read_json('Purchase.json')"
      ],
      "execution_count": null,
      "outputs": []
    },
    {
      "cell_type": "code",
      "metadata": {
        "id": "HnbD9M_OvD7n"
      },
      "source": [
        "csv\r\n",
        "# xls\r\n",
        "# json"
      ],
      "execution_count": null,
      "outputs": []
    },
    {
      "cell_type": "markdown",
      "metadata": {
        "id": "rosi-AQGCnin"
      },
      "source": [
        "# Arrival dataset"
      ]
    },
    {
      "cell_type": "code",
      "metadata": {
        "id": "tpBKFY5Q90No"
      },
      "source": [
        "# arrivals dataset\r\n",
        "url = 'https://raw.githubusercontent.com/hxchua/datadoubleconfirm/master/datasets/arrivals2018.csv'\r\n",
        "arrival = pd.read_csv(url, error_bad_lines=False) # , index_col = 'rank')"
      ],
      "execution_count": null,
      "outputs": []
    },
    {
      "cell_type": "code",
      "metadata": {
        "id": "z4nnuVHr90nq"
      },
      "source": [
        "# arrival dataframe\r\n",
        "arrival"
      ],
      "execution_count": null,
      "outputs": []
    },
    {
      "cell_type": "code",
      "metadata": {
        "id": "tRW-zjXb90q7"
      },
      "source": [
        "# to see first n enteries\r\n",
        "n = 7\r\n",
        "arrival.head(n)"
      ],
      "execution_count": null,
      "outputs": []
    },
    {
      "cell_type": "code",
      "metadata": {
        "id": "LmlTRLnuDRCb"
      },
      "source": [
        "# to see last n enteries\r\n",
        "n = 7\r\n",
        "arrival.tail(n)"
      ],
      "execution_count": null,
      "outputs": []
    },
    {
      "cell_type": "code",
      "metadata": {
        "id": "whaax84ODRFt"
      },
      "source": [
        "# informationa about the data\r\n",
        "arrival.info()"
      ],
      "execution_count": null,
      "outputs": []
    },
    {
      "cell_type": "code",
      "metadata": {
        "id": "Y8NqTaPiDgsb"
      },
      "source": [
        "# size of the dataframe\r\n",
        "arrival.shape"
      ],
      "execution_count": null,
      "outputs": []
    },
    {
      "cell_type": "markdown",
      "metadata": {
        "id": "oJ5DUuPjGN6Q"
      },
      "source": [
        "### Add new columns "
      ]
    },
    {
      "cell_type": "code",
      "metadata": {
        "id": "SQUuRUaMDmuK"
      },
      "source": [
        "# adding new column to dataframe\r\n",
        "new_col = [1 for _ in range(20)]\r\n",
        "arrival['New Col'] = new_col\r\n",
        "arrival"
      ],
      "execution_count": null,
      "outputs": []
    },
    {
      "cell_type": "markdown",
      "metadata": {
        "id": "yw5ZFuK6GWqh"
      },
      "source": [
        "### Operation on columns"
      ]
    },
    {
      "cell_type": "code",
      "metadata": {
        "id": "a3DzlnInETkB"
      },
      "source": [
        "# substract and add two columns of a dataframe\r\n",
        "arrival['Sum of 2 years'] = arrival['arrivals_2017'] + arrival['arrivals_2018']\r\n",
        "arrival['Increase in arriavls'] = arrival['arrivals_2018'] - arrival['arrivals_2017']\r\n",
        "arrival"
      ],
      "execution_count": null,
      "outputs": []
    },
    {
      "cell_type": "code",
      "metadata": {
        "id": "9spynxbBF6AP"
      },
      "source": [
        "# multiplication and division of  two columns of a dataframe\r\n",
        "arrival['Multiplication'] = arrival['arrivals_2017'] * arrival['arrivals_2018']\r\n",
        "arrival['Divison'] = arrival['arrivals_2018'] / arrival['arrivals_2017']\r\n",
        "arrival"
      ],
      "execution_count": null,
      "outputs": []
    },
    {
      "cell_type": "markdown",
      "metadata": {
        "id": "xCFw2UZDGeTr"
      },
      "source": [
        "### Dropping columns or rows"
      ]
    },
    {
      "cell_type": "code",
      "metadata": {
        "id": "OjObKnVZE8PX"
      },
      "source": [
        "# drop a row or a columns\r\n",
        "\r\n",
        "arrival = arrival.drop(['New Col'], axis  = 1)  # drop using column name\r\n",
        "# arrival.drop(10, axis = 0)  # drop using index"
      ],
      "execution_count": null,
      "outputs": []
    },
    {
      "cell_type": "markdown",
      "metadata": {
        "id": "EXmJajMFHuqV"
      },
      "source": [
        "### Append or Concatenate"
      ]
    },
    {
      "cell_type": "code",
      "metadata": {
        "id": "kOKVLQDnHuHr"
      },
      "source": [
        "# appending\r\n",
        "temp1  = arrival.append(arrival)  # rowwise append\r\n",
        "print(temp1.shape)\r\n",
        "temp1"
      ],
      "execution_count": null,
      "outputs": []
    },
    {
      "cell_type": "code",
      "metadata": {
        "id": "p_TLbNMPFiNW"
      },
      "source": [
        "# concatenate\r\n",
        "temp2 = pd.concat((arrival, arrival), axis = 0)\r\n",
        "print(temp2.shape)\r\n",
        "temp2"
      ],
      "execution_count": null,
      "outputs": []
    },
    {
      "cell_type": "code",
      "metadata": {
        "id": "pS-9zMnHIwsI"
      },
      "source": [
        "temp3 = pd.concat((arrival, arrival), axis = 1)\r\n",
        "print( temp3.shape)\r\n",
        "temp3"
      ],
      "execution_count": null,
      "outputs": []
    },
    {
      "cell_type": "markdown",
      "metadata": {
        "id": "XRW_cB6-JIo5"
      },
      "source": [
        "### Dropping duplicate rows"
      ]
    },
    {
      "cell_type": "code",
      "metadata": {
        "id": "eoR8fPVuJHX2"
      },
      "source": [
        "new_df = temp2.drop_duplicates()\r\n",
        "print(new_df.shape)\r\n",
        "new_df"
      ],
      "execution_count": null,
      "outputs": []
    },
    {
      "cell_type": "markdown",
      "metadata": {
        "id": "3-LPRuyBJ9QB"
      },
      "source": [
        "### Mean of column"
      ]
    },
    {
      "cell_type": "code",
      "metadata": {
        "id": "XCik9pBrJH6M"
      },
      "source": [
        "# mean of a column\r\n",
        "mean_arrival = arrival['arrivals_2017'].mean()\r\n",
        "print('Mean arrival for 2017 : ', mean_arrival)"
      ],
      "execution_count": null,
      "outputs": []
    },
    {
      "cell_type": "markdown",
      "metadata": {
        "id": "K3Hzg_OsKcsK"
      },
      "source": [
        "### Summary of dataframe"
      ]
    },
    {
      "cell_type": "code",
      "metadata": {
        "id": "AxHzTQn2Kb9x"
      },
      "source": [
        "arrival.describe()"
      ],
      "execution_count": null,
      "outputs": []
    },
    {
      "cell_type": "markdown",
      "metadata": {
        "id": "vlDkwq3Mm_Y9"
      },
      "source": [
        "### Correlation of columns"
      ]
    },
    {
      "cell_type": "code",
      "metadata": {
        "id": "vUPUqZOXnGG8"
      },
      "source": [
        "(arrival.corr())"
      ],
      "execution_count": null,
      "outputs": []
    },
    {
      "cell_type": "markdown",
      "metadata": {
        "id": "u2E-LccJpCKE"
      },
      "source": [
        "### Sorting values based on some columns"
      ]
    },
    {
      "cell_type": "code",
      "metadata": {
        "id": "dl3yClygpIR9"
      },
      "source": [
        "arrival.sort_values(['city'], ascending=True)"
      ],
      "execution_count": null,
      "outputs": []
    },
    {
      "cell_type": "markdown",
      "metadata": {
        "id": "EV96mcPxpm1Y"
      },
      "source": [
        "# Conditional selections in Dataframes"
      ]
    },
    {
      "cell_type": "code",
      "metadata": {
        "id": "igxEdS5jp0tp"
      },
      "source": [
        "# equality conditional arguement\r\n",
        "\r\n",
        "arrival[arrival['country'] == 'China']"
      ],
      "execution_count": null,
      "outputs": []
    },
    {
      "cell_type": "code",
      "metadata": {
        "id": "_D39z584q-y7"
      },
      "source": [
        "# non-equality conditional arguement\r\n",
        "\r\n",
        "arrival[arrival['country'] != 'China']"
      ],
      "execution_count": null,
      "outputs": []
    },
    {
      "cell_type": "code",
      "metadata": {
        "id": "KvXCbA3WrrKG"
      },
      "source": [
        "# equality conditional arguement\r\n",
        "\r\n",
        "arrival[(arrival['country'] == 'China') | (arrival['country'] == 'India')]  # (| stands for OR) and (& stands for AND)\r\n",
        "\r\n",
        "# arrival[arrival['country'].isin(['China', 'India', 'Turkey'])]"
      ],
      "execution_count": null,
      "outputs": []
    },
    {
      "cell_type": "code",
      "metadata": {
        "id": "4FrzwX9arEha"
      },
      "source": [
        "# comparative conditional arguement\r\n",
        "\r\n",
        "arrival[arrival['Divison'] > 1.1]"
      ],
      "execution_count": null,
      "outputs": []
    }
  ]
}