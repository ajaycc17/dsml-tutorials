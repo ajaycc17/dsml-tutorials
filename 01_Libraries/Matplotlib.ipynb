{
  "nbformat": 4,
  "nbformat_minor": 0,
  "metadata": {
    "colab": {
      "name": "Matplotlib.ipynb",
      "provenance": [],
      "toc_visible": true
    },
    "kernelspec": {
      "name": "python3",
      "display_name": "Python 3"
    }
  },
  "cells": [
    {
      "cell_type": "markdown",
      "metadata": {
        "id": "41sxCthiZxuy"
      },
      "source": [
        "# matplotlib\r\n",
        "\r\n",
        "It is a python library which is used for plotting data."
      ]
    },
    {
      "cell_type": "code",
      "metadata": {
        "id": "bfId_1xRyxsN"
      },
      "source": [
        "! pip install matplotlib"
      ],
      "execution_count": null,
      "outputs": []
    },
    {
      "cell_type": "code",
      "metadata": {
        "id": "vghwxfgxzpko"
      },
      "source": [
        "# importing matplotlib\r\n",
        "import matplotlib\r\n",
        "import matplotlib.pyplot as plt"
      ],
      "execution_count": null,
      "outputs": []
    },
    {
      "cell_type": "markdown",
      "metadata": {
        "id": "xoNd0AHFz3uz"
      },
      "source": [
        "# Basics of matplotlib"
      ]
    },
    {
      "cell_type": "markdown",
      "metadata": {
        "id": "lrM_VSG57mqu"
      },
      "source": [
        "### Using lists"
      ]
    },
    {
      "cell_type": "code",
      "metadata": {
        "id": "kPmAkHBVz2uQ"
      },
      "source": [
        "# plot using lists\r\n",
        "\r\n",
        "a = [x for x in range(20)]\r\n",
        "b = [x*x for x in a]\r\n",
        "\r\n",
        "#plotting\r\n",
        "plt.plot(a, b)\r\n",
        "\r\n",
        "# giving labels to axis\r\n",
        "plt.xlabel('x')\r\n",
        "plt.ylabel('x squared')\r\n",
        "\r\n",
        "# label\r\n",
        "plt.legend(['x squared'])\r\n",
        "\r\n",
        "# giving a title\r\n",
        "plt.title('My First Plot')\r\n",
        "\r\n",
        "# limiting the axis range\r\n",
        "# plt.xlim(0,4)\r\n",
        "# plt.ylim(0,20)"
      ],
      "execution_count": null,
      "outputs": []
    },
    {
      "cell_type": "markdown",
      "metadata": {
        "id": "o4wV10Em7qy6"
      },
      "source": [
        "### Using numpy"
      ]
    },
    {
      "cell_type": "code",
      "metadata": {
        "id": "y2MQSbpC7PTo"
      },
      "source": [
        "# plot using numpy\r\n",
        "import numpy as np\r\n",
        "\r\n",
        "a = np.arange(0,10, 0.2)\r\n",
        "b = a*a\r\n",
        "\r\n",
        "#plotting\r\n",
        "plt.plot(a, b) # marker = 'o'\r\n",
        "\r\n",
        "# giving labels to axis\r\n",
        "plt.xlabel('x')\r\n",
        "plt.ylabel('x squared')\r\n",
        "\r\n",
        "# giving a title\r\n",
        "plt.title('My First Plot')\r\n",
        "\r\n",
        "# limiting the axis range\r\n",
        "# plt.xlim(0,4)\r\n",
        "# plt.ylim(0,20)"
      ],
      "execution_count": null,
      "outputs": []
    },
    {
      "cell_type": "code",
      "metadata": {
        "id": "JyPRTeDD9wpE"
      },
      "source": [
        "# saving figure (jpeg or png)\r\n",
        "plt.savefig('first_plot.png', dpi = 200)"
      ],
      "execution_count": null,
      "outputs": []
    },
    {
      "cell_type": "code",
      "metadata": {
        "id": "rDzu87dr7v_7"
      },
      "source": [
        "c = np.exp(a)  # np.log(a), np.sin(a), 1/a\r\n",
        "plt.plot(a, c)\r\n",
        "# plt.grid()  # to add grid"
      ],
      "execution_count": null,
      "outputs": []
    },
    {
      "cell_type": "markdown",
      "metadata": {
        "id": "AsMV8_TI8xJz"
      },
      "source": [
        "# Types of plot "
      ]
    },
    {
      "cell_type": "markdown",
      "metadata": {
        "id": "bzddxGw6AJVX"
      },
      "source": [
        "### Scatter plot"
      ]
    },
    {
      "cell_type": "code",
      "metadata": {
        "id": "QAf8hOr78ueI"
      },
      "source": [
        "plt.scatter(a, c)"
      ],
      "execution_count": null,
      "outputs": []
    },
    {
      "cell_type": "markdown",
      "metadata": {
        "id": "NYTo1WJjAMaZ"
      },
      "source": [
        "### Histogram"
      ]
    },
    {
      "cell_type": "code",
      "metadata": {
        "id": "YP7y1V658unO"
      },
      "source": [
        "plt.hist(b, bins = 10)"
      ],
      "execution_count": null,
      "outputs": []
    },
    {
      "cell_type": "markdown",
      "metadata": {
        "id": "VMk31L5RAPMO"
      },
      "source": [
        "### Bar graph"
      ]
    },
    {
      "cell_type": "code",
      "metadata": {
        "id": "syVqA-xA8uqE"
      },
      "source": [
        "plt.bar(a, b, width=0.1)"
      ],
      "execution_count": null,
      "outputs": []
    },
    {
      "cell_type": "markdown",
      "metadata": {
        "id": "dGgq4Zd_ARTf"
      },
      "source": [
        "### Pie charts"
      ]
    },
    {
      "cell_type": "code",
      "metadata": {
        "id": "EcNm7mRt8usc"
      },
      "source": [
        "y = np.array([35, 25, 25, 15])\r\n",
        "\r\n",
        "plt.pie(y, labels = [\"Apples\", \"Bananas\", \"Cherries\", \"Dates\"])"
      ],
      "execution_count": null,
      "outputs": []
    },
    {
      "cell_type": "markdown",
      "metadata": {
        "id": "DOLVdTS-B3aQ"
      },
      "source": [
        "# Sub-plots"
      ]
    },
    {
      "cell_type": "markdown",
      "metadata": {
        "id": "idEr8QdzCRHK"
      },
      "source": [
        "### Example 1"
      ]
    },
    {
      "cell_type": "code",
      "metadata": {
        "id": "tMnfCrXxB2p5"
      },
      "source": [
        "#plot 1:\r\n",
        "x = np.array([0, 1, 2, 3])\r\n",
        "y = np.array([3, 8, 1, 10])\r\n",
        "\r\n",
        "plt.subplot(1, 2, 1)\r\n",
        "plt.plot(x,y)\r\n",
        "\r\n",
        "#plot 2:\r\n",
        "x = np.array([0, 1, 2, 3])\r\n",
        "y = np.array([10, 20, 30, 40])\r\n",
        "\r\n",
        "plt.subplot(1, 2, 2)\r\n",
        "plt.plot(x,y)\r\n",
        "\r\n",
        "plt.show()"
      ],
      "execution_count": null,
      "outputs": []
    },
    {
      "cell_type": "markdown",
      "metadata": {
        "id": "ZcU_ndKqCTFV"
      },
      "source": [
        "### Example 2"
      ]
    },
    {
      "cell_type": "code",
      "metadata": {
        "id": "ziR47uobB2xq"
      },
      "source": [
        "#plot 1:\r\n",
        "x = np.array([0, 1, 2, 3])\r\n",
        "y = np.array([3, 8, 1, 10])\r\n",
        "\r\n",
        "plt.subplot(2, 1, 1)\r\n",
        "plt.plot(x,y)\r\n",
        "\r\n",
        "#plot 2:\r\n",
        "x = np.array([0, 1, 2, 3])\r\n",
        "y = np.array([10, 20, 30, 40])\r\n",
        "\r\n",
        "plt.subplot(2, 1, 2)\r\n",
        "plt.plot(x,y)\r\n",
        "\r\n",
        "plt.show()"
      ],
      "execution_count": null,
      "outputs": []
    },
    {
      "cell_type": "markdown",
      "metadata": {
        "id": "6OQIS__aCXK3"
      },
      "source": [
        "### Example 3"
      ]
    },
    {
      "cell_type": "code",
      "metadata": {
        "id": "zXZ3W0k7B20k"
      },
      "source": [
        "# plot 1\r\n",
        "x = np.array([0, 1, 2, 3])\r\n",
        "y = np.array([3, 8, 1, 10])\r\n",
        "\r\n",
        "plt.subplot(2, 3, 1)\r\n",
        "plt.plot(x,y)\r\n",
        "\r\n",
        "# plot 2\r\n",
        "x = np.array([0, 1, 2, 3])\r\n",
        "y = np.array([10, 20, 30, 40])\r\n",
        "\r\n",
        "plt.subplot(2, 3, 2)\r\n",
        "plt.plot(x,y)\r\n",
        "\r\n",
        "# plot 3\r\n",
        "x = np.array([0, 1, 2, 3])\r\n",
        "y = np.array([3, 8, 1, 10])\r\n",
        "\r\n",
        "plt.subplot(2, 3, 3)\r\n",
        "plt.plot(x,y)\r\n",
        "\r\n",
        "# plot 4\r\n",
        "x = np.array([0, 1, 2, 3])\r\n",
        "y = np.array([10, 20, 30, 40])\r\n",
        "\r\n",
        "plt.subplot(2, 3, 4)\r\n",
        "plt.plot(x,y)\r\n",
        "\r\n",
        "# plot 5\r\n",
        "x = np.array([0, 1, 2, 3])\r\n",
        "y = np.array([3, 8, 1, 10])\r\n",
        "\r\n",
        "plt.subplot(2, 3, 5)\r\n",
        "plt.plot(x,y)\r\n",
        "\r\n",
        "# plot 6\r\n",
        "x = np.array([0, 1, 2, 3])\r\n",
        "y = np.array([10, 20, 30, 40])\r\n",
        "\r\n",
        "plt.subplot(2, 3, 6)\r\n",
        "plt.plot(x,y)\r\n",
        "\r\n",
        "plt.show()"
      ],
      "execution_count": null,
      "outputs": []
    },
    {
      "cell_type": "markdown",
      "metadata": {
        "id": "9ze3WtS0C-Y0"
      },
      "source": [
        "# Plot using Dataframes"
      ]
    },
    {
      "cell_type": "code",
      "metadata": {
        "id": "SWoxJmWvC9xB"
      },
      "source": [
        "import pandas as pd\r\n",
        "\r\n",
        "# arrivals dataset\r\n",
        "url = 'https://raw.githubusercontent.com/hxchua/datadoubleconfirm/master/datasets/arrivals2018.csv'\r\n",
        "df = pd.read_csv(url, error_bad_lines=False) # , index_col = 'rank')"
      ],
      "execution_count": null,
      "outputs": []
    },
    {
      "cell_type": "code",
      "metadata": {
        "id": "ZpmjzQRkB23U"
      },
      "source": [
        "df.columns"
      ],
      "execution_count": null,
      "outputs": []
    },
    {
      "cell_type": "code",
      "metadata": {
        "id": "f_tY0XgU8uvL"
      },
      "source": [
        "plt.plot(df['rank'], df['arrivals_2017'])\r\n",
        "plt.plot(df['rank'], df['arrivals_2018'])"
      ],
      "execution_count": null,
      "outputs": []
    },
    {
      "cell_type": "code",
      "metadata": {
        "id": "zzzAW_P_Nig6"
      },
      "source": [
        "df.plot.bar()"
      ],
      "execution_count": null,
      "outputs": []
    },
    {
      "cell_type": "code",
      "metadata": {
        "id": "ZB51UG0kOKMg"
      },
      "source": [
        "df.plot.area()"
      ],
      "execution_count": null,
      "outputs": []
    },
    {
      "cell_type": "code",
      "metadata": {
        "id": "OifD1WfjOime"
      },
      "source": [
        "df.plot.scatter(x='rank', y = 'arrivals_2017')"
      ],
      "execution_count": null,
      "outputs": []
    },
    {
      "cell_type": "markdown",
      "metadata": {
        "id": "3ITvywMsWohA"
      },
      "source": [
        ""
      ]
    },
    {
      "cell_type": "markdown",
      "metadata": {
        "id": "0tGK9AR_Wz1r"
      },
      "source": [
        ""
      ]
    },
    {
      "cell_type": "markdown",
      "metadata": {
        "id": "VzjVtP0jWqsl"
      },
      "source": [
        "# 3-D plot"
      ]
    },
    {
      "cell_type": "code",
      "metadata": {
        "id": "iY5CejDJWtZs"
      },
      "source": [
        "# importing mplot3d toolkits\r\n",
        "from mpl_toolkits import mplot3d \r\n",
        "import numpy as np\r\n",
        "\r\n",
        "fig = plt.figure() \r\n",
        "  \r\n",
        "# syntax for 3-D projection \r\n",
        "ax = plt.axes(projection ='3d') \r\n",
        "  \r\n",
        "# defining all 3 axes \r\n",
        "z = np.linspace(0, 1, 100) \r\n",
        "x = z * np.sin(25 * z) \r\n",
        "y = z * np.cos(25 * z) \r\n",
        "  \r\n",
        "# plotting \r\n",
        "ax.plot3D(x, y, z, 'green') \r\n",
        "ax.set_title('3D line plot') \r\n",
        "plt.show() "
      ],
      "execution_count": null,
      "outputs": []
    },
    {
      "cell_type": "code",
      "metadata": {
        "id": "E7p57gcBX4JK"
      },
      "source": [
        "# importing mplot3d toolkits\r\n",
        "from mpl_toolkits import mplot3d \r\n",
        "import numpy as np\r\n",
        "\r\n",
        "fig = plt.figure() \r\n",
        "  \r\n",
        "# syntax for 3-D projection \r\n",
        "ax = plt.axes(projection ='3d') \r\n",
        "  \r\n",
        "# defining all 3 axes \r\n",
        "z = np.linspace(0, 1, 100) \r\n",
        "x = z * np.sin(25 * z) \r\n",
        "y = z * np.cos(25 * z) \r\n",
        "\r\n",
        "# plotting \r\n",
        "ax.scatter3D(x, y, z) \r\n",
        "ax.set_title('3D line plot') \r\n",
        "plt.show() "
      ],
      "execution_count": null,
      "outputs": []
    },
    {
      "cell_type": "code",
      "metadata": {
        "id": "64VS1WSNYmOj"
      },
      "source": [
        "# importing mplot3d toolkits\r\n",
        "from mpl_toolkits import mplot3d \r\n",
        "import numpy as np\r\n",
        "\r\n",
        "fig = plt.figure() \r\n",
        "  \r\n",
        "# syntax for 3-D projection \r\n",
        "ax = plt.axes(projection ='3d') \r\n",
        "  \r\n",
        "# defining all 3 axes \r\n",
        "x = df['rank']\r\n",
        "y = df['arrivals_2017']\r\n",
        "z = df['arrivals_2018']\r\n",
        "\r\n",
        "# plotting \r\n",
        "ax.scatter3D(x, y, z) \r\n",
        "ax.set_title('3D line plot')\r\n",
        "\r\n",
        "ax.set_xlabel('Rank') \r\n",
        "ax.set_ylabel('Arrival 2017') \r\n",
        "ax.set_zlabel('Arrival 2018') \r\n",
        "\r\n",
        "plt.show() "
      ],
      "execution_count": null,
      "outputs": []
    }
  ]
}